{
 "cells": [
  {
   "cell_type": "code",
   "execution_count": 5,
   "metadata": {},
   "outputs": [],
   "source": [
    "from gensim.models import KeyedVectors"
   ]
  },
  {
   "cell_type": "code",
   "execution_count": 6,
   "metadata": {},
   "outputs": [],
   "source": [
    "word_vectors = KeyedVectors.load_word2vec_format(\n",
    "  'GoogleNews-vectors-negative300.bin',\n",
    "  binary=True\n",
    ")"
   ]
  },
  {
   "cell_type": "code",
   "execution_count": 9,
   "metadata": {},
   "outputs": [],
   "source": [
    "def find_analogies(w1, w2, w3):\n",
    "  # w1 - w2 = ? - w3\n",
    "  # e.g. king - man = ? - woman\n",
    "  #      ? = +king +woman -man\n",
    "  r = word_vectors.most_similar(positive=[w1, w3], negative=[w2])\n",
    "  print(\"%s - %s = %s - %s\" % (w1, w2, r[0][0], w3))"
   ]
  },
  {
   "cell_type": "code",
   "execution_count": 10,
   "metadata": {},
   "outputs": [
    {
     "name": "stdout",
     "output_type": "stream",
     "text": [
      "king - man = queen - woman\n"
     ]
    }
   ],
   "source": [
    "find_analogies('king', 'man', 'woman')"
   ]
  },
  {
   "cell_type": "code",
   "execution_count": 11,
   "metadata": {},
   "outputs": [
    {
     "name": "stdout",
     "output_type": "stream",
     "text": [
      "france - paris = england - london\n"
     ]
    }
   ],
   "source": [
    "find_analogies('france', 'paris', 'london')"
   ]
  },
  {
   "cell_type": "code",
   "execution_count": 18,
   "metadata": {},
   "outputs": [
    {
     "name": "stdout",
     "output_type": "stream",
     "text": [
      "france - paris = Turkey - Ankara\n"
     ]
    }
   ],
   "source": [
    "find_analogies('france', 'paris', 'Ankara')"
   ]
  },
  {
   "cell_type": "code",
   "execution_count": 17,
   "metadata": {},
   "outputs": [
    {
     "name": "stdout",
     "output_type": "stream",
     "text": [
      "paris - france = Ankara - Turkey\n"
     ]
    }
   ],
   "source": [
    "find_analogies('paris', 'france', 'Turkey')"
   ]
  },
  {
   "cell_type": "code",
   "execution_count": 19,
   "metadata": {},
   "outputs": [
    {
     "name": "stdout",
     "output_type": "stream",
     "text": [
      "einstein - scientist = jude - painter\n"
     ]
    }
   ],
   "source": [
    "find_analogies('einstein', 'scientist', 'painter')"
   ]
  },
  {
   "cell_type": "code",
   "execution_count": 20,
   "metadata": {},
   "outputs": [
    {
     "name": "stdout",
     "output_type": "stream",
     "text": [
      "man - woman = son - wife\n"
     ]
    }
   ],
   "source": [
    "find_analogies('man', 'woman', 'wife')"
   ]
  },
  {
   "cell_type": "code",
   "execution_count": 21,
   "metadata": {},
   "outputs": [],
   "source": [
    "def nearest_neighbors(w):\n",
    "  r = word_vectors.most_similar(positive=[w])\n",
    "  print(\"neighbors of: %s\" % w)\n",
    "  for word, score in r:\n",
    "    print(\"\\t%s\" % word)"
   ]
  },
  {
   "cell_type": "code",
   "execution_count": 22,
   "metadata": {},
   "outputs": [
    {
     "name": "stdout",
     "output_type": "stream",
     "text": [
      "neighbors of: king\n",
      "\tkings\n",
      "\tqueen\n",
      "\tmonarch\n",
      "\tcrown_prince\n",
      "\tprince\n",
      "\tsultan\n",
      "\truler\n",
      "\tprinces\n",
      "\tPrince_Paras\n",
      "\tthrone\n"
     ]
    }
   ],
   "source": [
    "nearest_neighbors('king')"
   ]
  },
  {
   "cell_type": "code",
   "execution_count": 26,
   "metadata": {},
   "outputs": [
    {
     "name": "stdout",
     "output_type": "stream",
     "text": [
      "neighbors of: france\n",
      "\tspain\n",
      "\tfrench\n",
      "\tgermany\n",
      "\teurope\n",
      "\titaly\n",
      "\tengland\n",
      "\teuropean\n",
      "\tbelgium\n",
      "\tusa\n",
      "\tserbia\n"
     ]
    }
   ],
   "source": [
    "nearest_neighbors('france')"
   ]
  },
  {
   "cell_type": "code",
   "execution_count": 27,
   "metadata": {},
   "outputs": [
    {
     "name": "stdout",
     "output_type": "stream",
     "text": [
      "neighbors of: einstein\n",
      "\tnikki\n",
      "\tlmfao\n",
      "\talbert\n",
      "\tarmstrong\n",
      "\tjoan\n",
      "\tbecky\n",
      "\tmcmahon\n",
      "\tconrad\n",
      "\tlori\n",
      "\thaley\n"
     ]
    }
   ],
   "source": [
    "nearest_neighbors('einstein')"
   ]
  }
 ],
 "metadata": {
  "kernelspec": {
   "display_name": "Python 3",
   "language": "python",
   "name": "python3"
  },
  "language_info": {
   "codemirror_mode": {
    "name": "ipython",
    "version": 3
   },
   "file_extension": ".py",
   "mimetype": "text/x-python",
   "name": "python",
   "nbconvert_exporter": "python",
   "pygments_lexer": "ipython3",
   "version": "3.12.4"
  }
 },
 "nbformat": 4,
 "nbformat_minor": 2
}
